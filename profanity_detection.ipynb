{
 "cells": [
  {
   "cell_type": "markdown",
   "metadata": {},
   "source": [
    "Imports"
   ]
  },
  {
   "cell_type": "code",
   "execution_count": 137,
   "metadata": {},
   "outputs": [],
   "source": [
    "import pandas as pd\n",
    "import numpy as np\n",
    "import re\n",
    "\n",
    "from sklearn.metrics import accuracy_score\n",
    "from sklearn.naive_bayes import GaussianNB\n",
    "from sklearn.linear_model import LogisticRegression\n",
    "from sklearn import svm\n",
    "from sklearn.tree import DecisionTreeClassifier\n",
    "from sklearn.ensemble import RandomForestClassifier\n"
   ]
  },
  {
   "cell_type": "markdown",
   "metadata": {},
   "source": [
    "### Loading and Pre-processing Profanity + English Dictionary Datasets"
   ]
  },
  {
   "cell_type": "code",
   "execution_count": 73,
   "metadata": {},
   "outputs": [],
   "source": [
    "#loads and creates a dataframe from a .txt list of profanities\n",
    "profanity_data1 = []\n",
    "with open('profanity_data.txt') as f:\n",
    "    lines = f.readlines()\n",
    "    for i in lines:\n",
    "        profanity_data1.append(i[:-1])\n",
    "    f.close()\n",
    "profanity_data1 = pd.DataFrame(profanity_data1)\n",
    "profanity_data1 = profanity_data1.rename(columns={0:\"Word\"})"
   ]
  },
  {
   "cell_type": "code",
   "execution_count": 74,
   "metadata": {},
   "outputs": [],
   "source": [
    "#loads a creates a dataframe from a .csv of profanities\n",
    "profanity_data2 = pd.read_csv(\"bad-words.csv\", header=None)\n",
    "profanity_data2 = profanity_data2.rename(columns={0:\"Word\"})"
   ]
  },
  {
   "cell_type": "code",
   "execution_count": 75,
   "metadata": {},
   "outputs": [],
   "source": [
    "#combines the two dataframes and creates a binary variable that indicates whether a word is a profanity or not (1 or 0)\n",
    "profanity_df = pd.concat([profanity_data1, profanity_data2], join=\"inner\")\n",
    "profanity_df = profanity_df.drop_duplicates()\n",
    "profanity_df[\"Profanity_indicator\"] = 1"
   ]
  },
  {
   "cell_type": "code",
   "execution_count": 76,
   "metadata": {},
   "outputs": [],
   "source": [
    "#loads dictionary dataset\n",
    "dictionary_data = pd.read_csv(\"dictionary.csv\", header=None)\n",
    "dictionary_data = dictionary_data.rename(columns={0:\"Word\"})\n",
    "dictionary_data = dictionary_data.drop(columns=[1, 2])\n",
    "\n",
    "#removes any words with less than 3 characters, with empty spaces, and more than 10 characters\n",
    "def remove_word(df):\n",
    "    \n",
    "    if len(df[\"Word\"]) <=2 or \" \" in df[\"Word\"] or len(df[\"Word\"]) >= 10:\n",
    "        return 1\n",
    "    else:\n",
    "        return 0\n",
    "dictionary_data[\"remove_word\"] = dictionary_data.apply(remove_word, axis=1)\n",
    "dictionary_data = dictionary_data[dictionary_data[\"remove_word\"] == 0]\n",
    "dictionary_data = dictionary_data.drop(columns=[\"remove_word\"])\n",
    "\n",
    "#gets a random sample of 4000 words to use later in training/testing\n",
    "dictionary_data = dictionary_data.sample(4000)\n",
    "\n",
    "#assigns profanity_indicator to 0\n",
    "dictionary_data[\"Profanity_indicator\"] = 0"
   ]
  },
  {
   "cell_type": "code",
   "execution_count": 133,
   "metadata": {},
   "outputs": [
    {
     "data": {
      "text/html": [
       "<div>\n",
       "<style scoped>\n",
       "    .dataframe tbody tr th:only-of-type {\n",
       "        vertical-align: middle;\n",
       "    }\n",
       "\n",
       "    .dataframe tbody tr th {\n",
       "        vertical-align: top;\n",
       "    }\n",
       "\n",
       "    .dataframe thead th {\n",
       "        text-align: right;\n",
       "    }\n",
       "</style>\n",
       "<table border=\"1\" class=\"dataframe\">\n",
       "  <thead>\n",
       "    <tr style=\"text-align: right;\">\n",
       "      <th></th>\n",
       "      <th>Word</th>\n",
       "      <th>Profanity_indicator</th>\n",
       "      <th>word_length</th>\n",
       "      <th>longer_than_avg</th>\n",
       "      <th>num_in_string</th>\n",
       "    </tr>\n",
       "  </thead>\n",
       "  <tbody>\n",
       "    <tr>\n",
       "      <th>0</th>\n",
       "      <td>4r5e</td>\n",
       "      <td>1</td>\n",
       "      <td>4</td>\n",
       "      <td>0</td>\n",
       "      <td>1</td>\n",
       "    </tr>\n",
       "    <tr>\n",
       "      <th>1</th>\n",
       "      <td>5h1t</td>\n",
       "      <td>1</td>\n",
       "      <td>4</td>\n",
       "      <td>0</td>\n",
       "      <td>1</td>\n",
       "    </tr>\n",
       "    <tr>\n",
       "      <th>2</th>\n",
       "      <td>5hit</td>\n",
       "      <td>1</td>\n",
       "      <td>4</td>\n",
       "      <td>0</td>\n",
       "      <td>1</td>\n",
       "    </tr>\n",
       "    <tr>\n",
       "      <th>3</th>\n",
       "      <td>a55</td>\n",
       "      <td>1</td>\n",
       "      <td>3</td>\n",
       "      <td>0</td>\n",
       "      <td>1</td>\n",
       "    </tr>\n",
       "    <tr>\n",
       "      <th>4</th>\n",
       "      <td>anal</td>\n",
       "      <td>1</td>\n",
       "      <td>4</td>\n",
       "      <td>0</td>\n",
       "      <td>0</td>\n",
       "    </tr>\n",
       "    <tr>\n",
       "      <th>...</th>\n",
       "      <td>...</td>\n",
       "      <td>...</td>\n",
       "      <td>...</td>\n",
       "      <td>...</td>\n",
       "      <td>...</td>\n",
       "    </tr>\n",
       "    <tr>\n",
       "      <th>34638</th>\n",
       "      <td>Quackling</td>\n",
       "      <td>0</td>\n",
       "      <td>9</td>\n",
       "      <td>1</td>\n",
       "      <td>0</td>\n",
       "    </tr>\n",
       "    <tr>\n",
       "      <th>42430</th>\n",
       "      <td>Rotal</td>\n",
       "      <td>0</td>\n",
       "      <td>5</td>\n",
       "      <td>0</td>\n",
       "      <td>0</td>\n",
       "    </tr>\n",
       "    <tr>\n",
       "      <th>13837</th>\n",
       "      <td>Fusteric</td>\n",
       "      <td>0</td>\n",
       "      <td>8</td>\n",
       "      <td>1</td>\n",
       "      <td>0</td>\n",
       "    </tr>\n",
       "    <tr>\n",
       "      <th>15365</th>\n",
       "      <td>Genu</td>\n",
       "      <td>0</td>\n",
       "      <td>4</td>\n",
       "      <td>0</td>\n",
       "      <td>0</td>\n",
       "    </tr>\n",
       "    <tr>\n",
       "      <th>10684</th>\n",
       "      <td>Flux</td>\n",
       "      <td>0</td>\n",
       "      <td>4</td>\n",
       "      <td>0</td>\n",
       "      <td>0</td>\n",
       "    </tr>\n",
       "  </tbody>\n",
       "</table>\n",
       "<p>5855 rows × 5 columns</p>\n",
       "</div>"
      ],
      "text/plain": [
       "            Word  Profanity_indicator  word_length  longer_than_avg  \\\n",
       "0           4r5e                    1            4                0   \n",
       "1           5h1t                    1            4                0   \n",
       "2           5hit                    1            4                0   \n",
       "3            a55                    1            3                0   \n",
       "4           anal                    1            4                0   \n",
       "...          ...                  ...          ...              ...   \n",
       "34638  Quackling                    0            9                1   \n",
       "42430      Rotal                    0            5                0   \n",
       "13837   Fusteric                    0            8                1   \n",
       "15365       Genu                    0            4                0   \n",
       "10684       Flux                    0            4                0   \n",
       "\n",
       "       num_in_string  \n",
       "0                  1  \n",
       "1                  1  \n",
       "2                  1  \n",
       "3                  1  \n",
       "4                  0  \n",
       "...              ...  \n",
       "34638              0  \n",
       "42430              0  \n",
       "13837              0  \n",
       "15365              0  \n",
       "10684              0  \n",
       "\n",
       "[5855 rows x 5 columns]"
      ]
     },
     "execution_count": 133,
     "metadata": {},
     "output_type": "execute_result"
    }
   ],
   "source": [
    "#combines the profanity and dictionary dataframes\n",
    "words_dataset = pd.concat([profanity_df, dictionary_data])\n",
    "\n",
    "#creates addition variables to use as features\n",
    "\n",
    "#length of word\n",
    "words_dataset[\"word_length\"] = words_dataset['Word'].str.len()\n",
    "\n",
    "#indicator of whether word is longer than avg\n",
    "avg_word_len = words_dataset[\"word_length\"].mean()\n",
    "def longer_than_avg(df):\n",
    "    if df[\"word_length\"] >= avg_word_len:\n",
    "        return 1\n",
    "    else:\n",
    "        return 0   \n",
    "words_dataset[\"longer_than_avg\"] = words_dataset.apply(longer_than_avg, axis=1)\n",
    "\n",
    "#indicator of whether word has numerics\n",
    "def num_numerics(df):\n",
    "    bool_numeric = re.search(r'\\d', df[\"Word\"])\n",
    "    if bool_numeric != None:\n",
    "        return 1\n",
    "    else:\n",
    "        return 0\n",
    "words_dataset[\"num_in_string\"] = words_dataset.apply(num_numerics, axis=1)\n",
    "\n",
    "words_dataset"
   ]
  },
  {
   "cell_type": "markdown",
   "metadata": {},
   "source": [
    "### Prepping Data for Training/Testing"
   ]
  },
  {
   "cell_type": "code",
   "execution_count": 135,
   "metadata": {},
   "outputs": [],
   "source": [
    "from sklearn.model_selection import StratifiedShuffleSplit\n",
    "\n",
    "sss = StratifiedShuffleSplit(n_splits=1, test_size=0.2, random_state=42)\n",
    "for train_index, test_index in sss.split(words_dataset, words_dataset['Profanity_indicator']):\n",
    "    strat_train_set = words_dataset.iloc[train_index]\n",
    "    strat_test_set = words_dataset.iloc[test_index]\n",
    "    \n",
    "X_train = strat_train_set.drop('Profanity_indicator',axis=1).select_dtypes(np.number)\n",
    "y_train = strat_train_set['Profanity_indicator']\n",
    "X_test = strat_test_set.drop('Profanity_indicator', axis=1).select_dtypes(np.number)\n",
    "y_test = strat_test_set['Profanity_indicator']"
   ]
  },
  {
   "cell_type": "markdown",
   "metadata": {},
   "source": [
    "### Picking a Classification Model"
   ]
  },
  {
   "cell_type": "code",
   "execution_count": 139,
   "metadata": {},
   "outputs": [],
   "source": [
    "models = [\n",
    "    RandomForestClassifier(n_estimators=50,random_state=42, criterion='entropy',max_depth=None, min_samples_split=2),\n",
    "    svm.SVC(gamma=\"scale\",kernel=\"rbf\"),\n",
    "    GaussianNB(),\n",
    "    DecisionTreeClassifier(),\n",
    "    LogisticRegression()\n",
    "    \n",
    "    \n",
    "]\n",
    "\n",
    "model_names = ['rf','svm','dt','nb', 'lr']"
   ]
  },
  {
   "cell_type": "code",
   "execution_count": 140,
   "metadata": {},
   "outputs": [
    {
     "name": "stdout",
     "output_type": "stream",
     "text": [
      "Accuracy for rf: 76.00%\n",
      "Accuracy for svm: 73.27%\n",
      "Accuracy for dt: 68.66%\n",
      "Accuracy for nb: 76.00%\n",
      "Accuracy for lr: 75.83%\n"
     ]
    }
   ],
   "source": [
    "accuracy = []\n",
    "for model in models:\n",
    "    \n",
    "        model.fit(X_train,y_train)\n",
    "\n",
    "        y_pred = model.predict(X_test)\n",
    "\n",
    "        # evaluate predictions\n",
    "        accuracy.append(model.score(X_test, y_test))\n",
    "        \n",
    "for i in range(5):\n",
    "    print(\"Accuracy for \" + model_names[i] + \": %.2f%%\" % (accuracy[i] * 100.0))"
   ]
  },
  {
   "cell_type": "markdown",
   "metadata": {},
   "source": [
    "## Random Forest Classifier on Profanity"
   ]
  },
  {
   "cell_type": "code",
   "execution_count": 182,
   "metadata": {},
   "outputs": [],
   "source": [
    "#Create a Gaussian Classifier\n",
    "clf=RandomForestClassifier(n_estimators=500)\n",
    "\n",
    "#Train the model\n",
    "clf.fit(X_train,y_train)\n",
    "\n",
    "y_pred=clf.predict(X_test)"
   ]
  },
  {
   "cell_type": "code",
   "execution_count": 183,
   "metadata": {},
   "outputs": [
    {
     "name": "stdout",
     "output_type": "stream",
     "text": [
      "Accuracy: 0.7600341588385995\n"
     ]
    }
   ],
   "source": [
    "#Import scikit-learn metrics module for accuracy calculation\n",
    "from sklearn import metrics\n",
    "# Model Accuracy\n",
    "print(\"Accuracy:\",metrics.accuracy_score(y_test, y_pred))"
   ]
  },
  {
   "cell_type": "markdown",
   "metadata": {},
   "source": [
    "### Profanity Checker"
   ]
  },
  {
   "cell_type": "code",
   "execution_count": 184,
   "metadata": {},
   "outputs": [],
   "source": [
    "def profanity_checker(word):\n",
    "    #word = input(\"Please enter a word: \")\n",
    "\n",
    "    def user_longer_avg(word):\n",
    "        if len(word) >= avg_word_len:\n",
    "            return 1\n",
    "        else:\n",
    "            return 0\n",
    "    \n",
    "    def user_string_num(word):\n",
    "        bool_numeric = re.search(r'\\d', word)\n",
    "        if bool_numeric != None:\n",
    "            return 1\n",
    "        else:\n",
    "            return 0    \n",
    "    \n",
    "    word_features = [len(word), user_longer_avg(word), user_string_num(word)]\n",
    "    \n",
    "    prediction = clf.predict([word_features])[0]\n",
    "    if prediction == 1:\n",
    "        return word + \" is a profanity\"\n",
    "    else:\n",
    "        return word + \" is not a profanity\""
   ]
  },
  {
   "cell_type": "code",
   "execution_count": 186,
   "metadata": {},
   "outputs": [
    {
     "data": {
      "text/plain": [
       "'fucker is not a profanity'"
      ]
     },
     "execution_count": 186,
     "metadata": {},
     "output_type": "execute_result"
    }
   ],
   "source": [
    "profanity_checker(\"fucker\")"
   ]
  },
  {
   "cell_type": "code",
   "execution_count": 187,
   "metadata": {},
   "outputs": [
    {
     "data": {
      "text/plain": [
       "123"
      ]
     },
     "execution_count": 187,
     "metadata": {},
     "output_type": "execute_result"
    }
   ],
   "source": [
    "testing = profanity_data1[\"Word\"].to_list()\n",
    "correct = 0\n",
    "for i in testing:\n",
    "    #print(i)\n",
    "    prediction = profanity_checker(i)\n",
    "    #print(prediction)\n",
    "    if \"not\" not in prediction:\n",
    "        correct +=1\n",
    "        \n",
    "correct"
   ]
  },
  {
   "cell_type": "code",
   "execution_count": 181,
   "metadata": {},
   "outputs": [
    {
     "data": {
      "text/plain": [
       "451"
      ]
     },
     "execution_count": 181,
     "metadata": {},
     "output_type": "execute_result"
    }
   ],
   "source": [
    "len(testing)"
   ]
  },
  {
   "cell_type": "code",
   "execution_count": null,
   "metadata": {},
   "outputs": [],
   "source": []
  }
 ],
 "metadata": {
  "kernelspec": {
   "display_name": "Python 3",
   "language": "python",
   "name": "python3"
  },
  "language_info": {
   "codemirror_mode": {
    "name": "ipython",
    "version": 3
   },
   "file_extension": ".py",
   "mimetype": "text/x-python",
   "name": "python",
   "nbconvert_exporter": "python",
   "pygments_lexer": "ipython3",
   "version": "3.6.13"
  }
 },
 "nbformat": 4,
 "nbformat_minor": 4
}
